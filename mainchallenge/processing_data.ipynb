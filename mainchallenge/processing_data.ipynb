{
 "cells": [
  {
   "cell_type": "code",
   "execution_count": 46,
   "metadata": {},
   "outputs": [],
   "source": [
    "import pandas as pd\n",
    "import datetime as datetime\n",
    "import numpy as np\n",
    "import matplotlib.pyplot as plt\n",
    "import seaborn as sns\n",
    "df = pd.read_csv('production_line_optimization_first_log.csv')\n",
    "df_sanitized = df.drop(df.columns[0], axis=1).drop_duplicates()\n",
    "df_sorted = df_sanitized.sort_values(by=[\"time\"])\n",
    "\n",
    "dfArrA = []\n",
    "dfArrB = []\n",
    "dfArrC = []\n",
    "dfArrD = []\n",
    "for x in range (1,22):\n",
    "    dfArrA.append(df_sanitized[df_sanitized[\"job_id\"] == x].sort_values(by=[\"time\"]))\n",
    "for x in range (22,40):\n",
    "   dfArrB.append(df_sanitized[df_sanitized[\"job_id\"] == x].sort_values(by=[\"time\"]))\n",
    "for x in range (40,66):\n",
    "   dfArrC.append(df_sanitized[df_sanitized[\"job_id\"] == x].sort_values(by=[\"time\"]))\n",
    "for x in range (66,74):\n",
    "   dfArrD.append(df_sanitized[df_sanitized[\"job_id\"] == x].sort_values(by=[\"time\"]))\n"
   ]
  },
  {
   "cell_type": "code",
   "execution_count": 47,
   "metadata": {},
   "outputs": [
    {
     "name": "stdout",
     "output_type": "stream",
     "text": [
      "{'job_ids': [1, 2, 3, 4, 5, 6, 7, 8, 9, 10, 11, 12, 13, 14, 15, 16, 17, 18, 19, 20, 21], 'modul1times': [4275.245, 2143.2206, 1736.9784, 2656.0784, 3175.21, 2420.7888, 1939.1804, 2729.6064, 2944.6758, 2257.189, 612.0, 1266.22, 1654.2594, 2338.0698, 4175.22, 2768.2086, 612.0, 2970.4106, 2054.987, 2304.9822, 2545.7864], 'modul2times': [3591.722199, 2661.593, 3575.1784, 612.0, 3360.109, 3088.0554, 3942.8184, 2740.6356, 3521.8706, 612.0, 4275.5326, 3668.9266, 2343.5844, 3527.3852, 3538.4144, 3703.8524, 3225.9204, 2788.4288, 3367.4618, 3135.8486, 2713.0626], 'modul3times': [2551.300999, 2341.7462, 2804.9726, 2959.3814, 2159.7644, 612.0, 2286.6002, 2540.2718, 1793.9626, 4091.7126, 2678.1368, 2538.4336, 2080.7218, 3209.3766, 2547.6246, 2361.9664, 2367.481, 2895.0444, 612.0, 2520.0516, 2974.087]}\n"
     ]
    }
   ],
   "source": [
    "\n",
    "dfAllA = pd.concat(dfArrA).sort_values([\"time\"])\n",
    "\n",
    "dict = {}\n",
    "for y in range (1,3):\n",
    "    module = dfAllA[dfAllA[\"module\"] == y]\n",
    "    times = []\n",
    "    job_ids = []\n",
    "    for x in range (1,22):\n",
    "        job = module[module[\"job_id\"] == x]\n",
    "        start = job[job[\"state\"] == \"fetching_job\"][\"time\"].values[0]\n",
    "        if (len(job[job[\"state\"] == \"waiting_on_next\"]) > 0):\n",
    "            end = job[job[\"state\"] == \"waiting_on_next\"][\"time\"].values[0]\n",
    "        else:\n",
    "            end = job[job[\"state\"] == \"storing_job\"][\"time\"].values[0]\n",
    "        job_ids.append(x)\n",
    "        times.append((datetime.datetime.fromisoformat(end)-datetime.datetime.fromisoformat(start)).total_seconds())\n",
    "    dict[\"job_ids\"] = job_ids\n",
    "    dict[\"modul\"+str(y)+\"times\"] = times\n",
    "\n",
    "module = dfAllA[dfAllA[\"module\"] == 3]\n",
    "times = []\n",
    "for x in range (1,22):\n",
    "    if (x < 21):\n",
    "        job = module[module[\"job_id\"] == x]\n",
    "        start = job[job[\"state\"] == \"fetching_job\"][\"time\"].values[0]\n",
    "        job = module[module[\"job_id\"] == x+1]\n",
    "        if (len(job[job[\"state\"] == \"waiting_on_precedent\"]) > 0):\n",
    "            end = job[job[\"state\"] == \"waiting_on_precedent\"][\"time\"].values[0]\n",
    "        else:\n",
    "            end = job[job[\"state\"] == \"fetching_job\"][\"time\"].values[0]\n",
    "        times.append((datetime.datetime.fromisoformat(end)-datetime.datetime.fromisoformat(start)).total_seconds())\n",
    "    else :\n",
    "        job = module[module[\"job_id\"] == x]\n",
    "        start = job[job[\"state\"] == \"fetching_job\"][\"time\"].values[0]\n",
    "        end = job[job[\"state\"] == \"idle\"][\"time\"].values[0]\n",
    "        times.append((datetime.datetime.fromisoformat(end)-datetime.datetime.fromisoformat(start)).total_seconds())\n",
    "dict[\"modul3times\"] = times\n",
    "print(dict)\n",
    "\n",
    "pd.DataFrame.from_dict(dict).to_csv(\"line_a_modultimes.csv\")\n",
    "        "
   ]
  },
  {
   "cell_type": "code",
   "execution_count": 48,
   "metadata": {},
   "outputs": [
    {
     "name": "stdout",
     "output_type": "stream",
     "text": [
      "     line  module  job_id                 state                        time\n",
      "746     B       6      22  waiting_on_precedent         2022-02-18T01:00:00\n",
      "97      B       5      22  waiting_on_precedent         2022-02-18T01:00:00\n",
      "226     B       4      22  waiting_on_precedent         2022-02-18T01:00:00\n",
      "908     B       1      22          fetching_job         2022-02-18T01:00:00\n",
      "868     B       2      22  waiting_on_precedent         2022-02-18T01:00:00\n",
      "...   ...     ...     ...                   ...                         ...\n",
      "660     B       5      39           storing_job  2022-02-18T20:14:25.939839\n",
      "1397    B       6      39          fetching_job  2022-02-18T20:21:03.939839\n",
      "645     B       5      39                  idle  2022-02-18T20:21:03.939839\n",
      "1126    B       6      39            processing  2022-02-18T20:27:41.939839\n",
      "1220    B       6      39                  idle  2022-02-18T21:09:03.509840\n",
      "\n",
      "[365 rows x 5 columns]\n",
      "{'job_ids': [22, 23, 24, 25, 26, 27, 28, 29, 30, 31, 32, 33, 34, 35, 36, 37, 38, 39], 'modul1times': [1276.6596, 1499.0818, 1576.286199, 1225.190001, 1539.5222, 2019.2924, 1379.5988, 1857.5308, 1443.935799, 398.0, 1692.092799, 1622.2412, 1160.853, 1923.706, 1804.223, 1931.0588, 3135.44744, 3036.18464], 'modul2times': [3318.8998, 2186.5686, 2221.4944, 2618.5456, 3122.212399, 2738.028601, 2804.2038, 2710.4556, 2568.9142, 1774.8118, 3616.688199, 2041.3508, 398.0, 2519.282801, 2826.262199, 2449.4312, 4417.040481, 398.0], 'modul3times': [2420.02, 398.0, 2142.4518, 398.0, 2300.537001, 398.0, 1666.358, 1670.0344, 1964.1464, 1522.9784, 1653.4906, 1594.6682, 2177.3776, 1991.719401, 2135.099, 398.0, 3292.06208, 3845.72792], 'modul4times': [2164.5102, 2267.4494, 3096.4776, 4993.5, 2022.9688, 2392.447, 2692.0736, 2848.3206, 2828.1004, 2190.245, 1953.1172, 2559.7232, 1932.897, 2758.2488, 1943.9262, 2828.1004, 3680.28992, 4461.15728], 'modul5times': [2464.1368, 2776.6308, 3074.4192, 2234.3618, 2017.4542, 2670.0152, 2482.5188, 398.0, 1993.5576, 2747.2196, 398.0, 2469.6514, 2392.447, 2181.054, 2195.7596, 3050.5226, 4019.98928, 3700.142479], 'modul6times': [2195.7596, 2035.8362, 1561.5806, 1927.3824, 1522.9784, 1704.9602, 2133.2608, 2030.3216, 2146.1282, 1493.5672, 398.0, 1475.1852, 1960.47, 1857.5308, 1453.1268, 398.0, 2762.66048, 2879.570001]}\n"
     ]
    }
   ],
   "source": [
    "\n",
    "dfAllB = pd.concat(dfArrB).sort_values([\"time\"])\n",
    "\n",
    "dict = {}\n",
    "for y in range (1,6):\n",
    "    module = dfAllB[dfAllB[\"module\"] == y]\n",
    "    times = []\n",
    "    job_ids = []\n",
    "    for x in range (22,40):\n",
    "        job = module[module[\"job_id\"] == x]\n",
    "        start = job[job[\"state\"] == \"fetching_job\"][\"time\"].values[0]\n",
    "        if (len(job[job[\"state\"] == \"waiting_on_next\"]) > 0):\n",
    "            end = job[job[\"state\"] == \"waiting_on_next\"][\"time\"].values[0]\n",
    "        else:\n",
    "            end = job[job[\"state\"] == \"storing_job\"][\"time\"].values[0]\n",
    "        job_ids.append(x)\n",
    "        times.append((datetime.datetime.fromisoformat(end)-datetime.datetime.fromisoformat(start)).total_seconds())\n",
    "    dict[\"job_ids\"] = job_ids\n",
    "    dict[\"modul\"+str(y)+\"times\"] = times\n",
    "\n",
    "print(dfAllB)\n",
    "module = dfAllB[dfAllB[\"module\"] == 6]\n",
    "times = []\n",
    "for x in range (22,40):\n",
    "    if (x < 39):\n",
    "        job = module[module[\"job_id\"] == x]\n",
    "        start = job[job[\"state\"] == \"fetching_job\"][\"time\"].values[0]\n",
    "        job = module[module[\"job_id\"] == x+1]\n",
    "        if (len(job[job[\"state\"] == \"waiting_on_precedent\"]) > 0):\n",
    "            end = job[job[\"state\"] == \"waiting_on_precedent\"][\"time\"].values[0]\n",
    "        else:\n",
    "            end = job[job[\"state\"] == \"fetching_job\"][\"time\"].values[0]\n",
    "        times.append((datetime.datetime.fromisoformat(end)-datetime.datetime.fromisoformat(start)).total_seconds())\n",
    "    else :\n",
    "        job = module[module[\"job_id\"] == x]\n",
    "        start = job[job[\"state\"] == \"fetching_job\"][\"time\"].values[0]\n",
    "        end = job[job[\"state\"] == \"idle\"][\"time\"].values[0]\n",
    "        times.append((datetime.datetime.fromisoformat(end)-datetime.datetime.fromisoformat(start)).total_seconds())\n",
    "dict[\"modul6times\"] = times\n",
    "print(dict)\n",
    "\n",
    "pd.DataFrame.from_dict(dict).to_csv(\"line_b_modultimes.csv\")"
   ]
  },
  {
   "cell_type": "code",
   "execution_count": 49,
   "metadata": {},
   "outputs": [
    {
     "name": "stdout",
     "output_type": "stream",
     "text": [
      "{'job_ids': [40, 41, 42, 43, 44, 45, 46, 47, 48, 49, 50, 51, 52, 53, 54, 55, 56, 57, 58, 59, 60, 61, 62, 63, 64, 65], 'modul1times': [1773.7408, 1504.3262, 1649.7624, 1282.5956, 286.0, 934.502399, 1318.3586, 286.0, 1022.7178, 286.0, 1344.584801, 5652.8342, 286.0, 1370.811, 1292.1324, 286.0, 1346.969, 1304.0534, 1110.9332, 965.497, 1408.9582, 805.7556, 286.0, 1139.543599, 1344.5848, 1382.732001], 'modul2times': [286.0, 286.0, 286.0, 286.0, 1299.285, 286.0, 286.0, 1211.0696, 286.0, 286.0, 1239.68, 1349.3532, 1187.2276, 286.0, 286.0, 1027.4862, 927.3498, 286.0, 286.0, 1196.7644, 286.0, 286.0, 286.0, 286.0, 286.0, 286.0], 'modul3times': [286.0, 286.0, 286.0, 1311.206, 1442.336999, 286.0, 286.0, 286.0, 1130.0068, 1127.6226, 286.0, 1146.6962, 1103.7806, 286.0, 286.0, 286.0, 286.0, 1213.4538, 1153.8488, 1346.969, 812.9082, 834.366, 1120.47, 1406.574, 829.5976, 822.445], 'modul4times': [286.0, 286.0, 286.0, 286.0, 286.0, 786.682001, 824.8292, 286.0, 286.0, 1161.0014, 286.0, 286.0, 286.0, 1029.8704, 286.0, 286.0, 1048.944, 286.0, 1304.0534, 286.0, 286.0, 286.0, 286.0, 286.0, 286.0, 286.0], 'modul5times': [286.0, 286.0, 286.0, 6301.3366, 286.0, 286.0, 286.0, 286.0, 1146.6962, 905.892, 1072.786, 286.0, 1089.4754, 286.0, 286.0, 1189.6118, 1470.9474, 286.0, 286.0, 963.1128, 1323.127, 834.366, 989.339, 824.8292, 1444.7212, 1191.996], 'modul6times': [286.0, 286.0, 286.0, 286.0, 286.0, 286.0, 286.0, 982.1864, 286.0, 1296.900799, 1194.3802, 1003.6442, 286.0, 286.0, 1344.5848, 286.0, 1370.811, 1447.1054, 286.0, 1010.7968, 1044.1756, 1130.0068, 286.0, 1172.9224, 1444.7212, 286.0], 'modul7times': [286.0, 286.0, 286.0, 286.0, 1315.9744, 853.4396, 1392.2688, 286.0, 1127.6226, 286.0, 1211.0696, 286.0, 286.0, 1225.3748, 286.0, 286.0, 1315.9744, 286.0, 1022.7178, 286.0, 286.0, 1215.838, 910.6604, 286.0, 1463.7948, 1163.3856]}\n"
     ]
    }
   ],
   "source": [
    "\n",
    "dfAllC = pd.concat(dfArrC).sort_values([\"time\"])\n",
    "\n",
    "dict = {}\n",
    "for y in range (1,7):\n",
    "    module = dfAllC[dfAllC[\"module\"] == y]\n",
    "    times = []\n",
    "    job_ids = []\n",
    "    for x in range (40,66):\n",
    "        job = module[module[\"job_id\"] == x]\n",
    "        start = job[job[\"state\"] == \"fetching_job\"][\"time\"].values[0]\n",
    "        if (len(job[job[\"state\"] == \"waiting_on_next\"]) > 0):\n",
    "            end = job[job[\"state\"] == \"waiting_on_next\"][\"time\"].values[0]\n",
    "        else:\n",
    "            end = job[job[\"state\"] == \"storing_job\"][\"time\"].values[0]\n",
    "        job_ids.append(x)\n",
    "        times.append((datetime.datetime.fromisoformat(end)-datetime.datetime.fromisoformat(start)).total_seconds())\n",
    "    dict[\"job_ids\"] = job_ids\n",
    "    dict[\"modul\"+str(y)+\"times\"] = times\n",
    "\n",
    "module = dfAllC[dfAllC[\"module\"] == 7]\n",
    "times = []\n",
    "for x in range (40,66):\n",
    "    if (x < 65):\n",
    "        job = module[module[\"job_id\"] == x]\n",
    "        start = job[job[\"state\"] == \"fetching_job\"][\"time\"].values[0]\n",
    "        job = module[module[\"job_id\"] == x+1]\n",
    "        if (len(job[job[\"state\"] == \"waiting_on_precedent\"]) > 0):\n",
    "            end = job[job[\"state\"] == \"waiting_on_precedent\"][\"time\"].values[0]\n",
    "        else:\n",
    "            end = job[job[\"state\"] == \"fetching_job\"][\"time\"].values[0]\n",
    "        times.append((datetime.datetime.fromisoformat(end)-datetime.datetime.fromisoformat(start)).total_seconds())\n",
    "    else :\n",
    "        job = module[module[\"job_id\"] == x]\n",
    "        start = job[job[\"state\"] == \"fetching_job\"][\"time\"].values[0]\n",
    "        end = job[job[\"state\"] == \"idle\"][\"time\"].values[0]\n",
    "        times.append((datetime.datetime.fromisoformat(end)-datetime.datetime.fromisoformat(start)).total_seconds())\n",
    "dict[\"modul7times\"] = times\n",
    "print(dict)\n",
    "\n",
    "pd.DataFrame.from_dict(dict).to_csv(\"line_c_modultimes.csv\")"
   ]
  },
  {
   "cell_type": "code",
   "execution_count": 50,
   "metadata": {},
   "outputs": [
    {
     "name": "stdout",
     "output_type": "stream",
     "text": [
      "{'job_ids': [66, 67, 68, 69, 70, 71, 72, 73], 'modul1times': [974.865, 1184.6746, 962.944, 1729.55, 729.2924, 1220.4376, 822.2762, 1170.3694], 'modul2times': [1125.0696, 688.761, 936.7178, 960.5598, 1039.2384, 924.7968, 1141.759, 1036.8542], 'modul3times': [1685.356599, 1823.640199, 1077.3856, 1406.4052, 1785.493, 1272.89, 6215.3366, 1194.2114], 'modul4times': [977.2492, 1146.5274, 1024.9332, 1156.064201, 1604.2938, 1337.2634, 1826.0244, 1752.1142]}\n"
     ]
    }
   ],
   "source": [
    "\n",
    "dfAllD = pd.concat(dfArrD).sort_values([\"time\"])\n",
    "\n",
    "dict = {}\n",
    "for y in range (1,4):\n",
    "    module = dfAllD[dfAllD[\"module\"] == y]\n",
    "    times = []\n",
    "    job_ids = []\n",
    "    for x in range (66,74):\n",
    "        job = module[module[\"job_id\"] == x]\n",
    "        start = job[job[\"state\"] == \"fetching_job\"][\"time\"].values[0]\n",
    "        if (len(job[job[\"state\"] == \"waiting_on_next\"]) > 0):\n",
    "            end = job[job[\"state\"] == \"waiting_on_next\"][\"time\"].values[0]\n",
    "        else:\n",
    "            end = job[job[\"state\"] == \"storing_job\"][\"time\"].values[0]\n",
    "        job_ids.append(x)\n",
    "        times.append((datetime.datetime.fromisoformat(end)-datetime.datetime.fromisoformat(start)).total_seconds())\n",
    "    dict[\"job_ids\"] = job_ids\n",
    "    dict[\"modul\"+str(y)+\"times\"] = times\n",
    "\n",
    "module = dfAllD[dfAllD[\"module\"] == 4]\n",
    "times = []\n",
    "for x in range (66,74):\n",
    "    if (x < 73):\n",
    "        job = module[module[\"job_id\"] == x]\n",
    "        start = job[job[\"state\"] == \"fetching_job\"][\"time\"].values[0]\n",
    "        job = module[module[\"job_id\"] == x+1]\n",
    "        if (len(job[job[\"state\"] == \"waiting_on_precedent\"]) > 0):\n",
    "            end = job[job[\"state\"] == \"waiting_on_precedent\"][\"time\"].values[0]\n",
    "        else:\n",
    "            end = job[job[\"state\"] == \"fetching_job\"][\"time\"].values[0]\n",
    "        times.append((datetime.datetime.fromisoformat(end)-datetime.datetime.fromisoformat(start)).total_seconds())\n",
    "    else :\n",
    "        job = module[module[\"job_id\"] == x]\n",
    "        start = job[job[\"state\"] == \"fetching_job\"][\"time\"].values[0]\n",
    "        end = job[job[\"state\"] == \"idle\"][\"time\"].values[0]\n",
    "        times.append((datetime.datetime.fromisoformat(end)-datetime.datetime.fromisoformat(start)).total_seconds())\n",
    "dict[\"modul4times\"] = times\n",
    "print(dict)\n",
    "\n",
    "pd.DataFrame.from_dict(dict).to_csv(\"line_d_modultimes.csv\")"
   ]
  },
  {
   "cell_type": "code",
   "execution_count": 51,
   "metadata": {},
   "outputs": [
    {
     "data": {
      "text/plain": [
       "array([11, 10, 19, 17,  6, 12,  4,  7,  3,  9,  1, 15, 16,  5, 14, 20, 13,\n",
       "        2, 21,  8, 18], dtype=int64)"
      ]
     },
     "execution_count": 51,
     "metadata": {},
     "output_type": "execute_result"
    }
   ],
   "source": [
    "df = pd.read_csv(\"line_a_modultimes.csv\")\n",
    "for index, row in df.iloc[: , 2:].iterrows():\n",
    "    df.loc[index, \"diff\"] = row.max()-row.min()\n",
    "\n",
    "df.sort_values(by=[\"diff\"], inplace=True)\n",
    "jobIds = np.array(df[\"job_ids\"])\n",
    "jobIds = np.flip(jobIds)\n",
    "jobIds"
   ]
  },
  {
   "cell_type": "code",
   "execution_count": 52,
   "metadata": {},
   "outputs": [
    {
     "name": "stdout",
     "output_type": "stream",
     "text": [
      "[[-0.62644812  0.11994538 -0.10484886  0.76300889]\n",
      " [-0.01565233 -0.84703135  0.4967271   0.18856057]]\n"
     ]
    }
   ],
   "source": [
    "from sklearn.decomposition import PCA\n",
    "\n",
    "pca = PCA(n_components=2)\n",
    "pca.fit(df.iloc[: , 2:])\n",
    "print(pca.components_)"
   ]
  },
  {
   "cell_type": "code",
   "execution_count": 53,
   "metadata": {},
   "outputs": [
    {
     "data": {
      "image/png": "[encoded data removed]",
      "text/plain": [
       "<Figure size 432x288 with 1 Axes>"
      ]
     },
     "metadata": {
      "needs_background": "light"
     },
     "output_type": "display_data"
    }
   ],
   "source": [
    "def draw_vector(v0, v1, ax=None):\n",
    "    ax = ax or plt.gca()\n",
    "    arrowprops=dict(arrowstyle='->',\n",
    "                    linewidth=2,\n",
    "                    shrinkA=0, shrinkB=0)\n",
    "    ax.annotate('', v1, v0, arrowprops=arrowprops)\n",
    "\n",
    "# plot data\n",
    "plt.scatter(df.iloc[: , 2:4], df.iloc[: , 4:6], alpha=0.3)\n",
    "for length, vector in zip(pca.explained_variance_, pca.components_):\n",
    "    v = vector * 3 * np.sqrt(length)\n",
    "    \n",
    "plt.axis('equal')\n",
    "plt.grid()"
   ]
  },
  {
   "cell_type": "code",
   "execution_count": 54,
   "metadata": {},
   "outputs": [
    {
     "data": {
      "text/plain": [
       "array([25, 39, 32, 37, 29, 23, 31, 27, 22, 34, 38, 26, 24, 28, 30, 36, 33,\n",
       "       35], dtype=int64)"
      ]
     },
     "execution_count": 54,
     "metadata": {},
     "output_type": "execute_result"
    }
   ],
   "source": [
    "df = pd.read_csv(\"line_b_modultimes.csv\")\n",
    "for index, row in df.iloc[: , 2:].iterrows():\n",
    "    df.loc[index, \"diff\"] = row.max()-row.min()\n",
    "\n",
    "df.sort_values(by=[\"diff\"], inplace=True)\n",
    "jobIds = np.array(df[\"job_ids\"])\n",
    "jobIds = np.flip(jobIds)\n",
    "jobIds"
   ]
  },
  {
   "cell_type": "code",
   "execution_count": 55,
   "metadata": {},
   "outputs": [
    {
     "name": "stdout",
     "output_type": "stream",
     "text": [
      "[[ 0.27083812 -0.29573461  0.3811852   0.51379689  0.45424863  0.32795318\n",
      "   0.34059249]\n",
      " [-0.16403211 -0.20595274 -0.5459337   0.24111406 -0.23267738 -0.19301698\n",
      "   0.69505613]]\n",
      "[1737604.60479724 1333096.64372789]\n"
     ]
    },
    {
     "data": {
      "image/png": "[encoded data removed]",
      "text/plain": [
       "<Figure size 432x288 with 1 Axes>"
      ]
     },
     "metadata": {
      "needs_background": "light"
     },
     "output_type": "display_data"
    }
   ],
   "source": [
    "\n",
    "pca = PCA(n_components=2)\n",
    "pca.fit(df.iloc[: , 2:])\n",
    "print(pca.components_)\n",
    "print(pca.explained_variance_)\n",
    "def draw_vector(v0, v1, ax=None):\n",
    "    ax = ax or plt.gca()\n",
    "    arrowprops=dict(arrowstyle='->',\n",
    "                    linewidth=2,\n",
    "                    shrinkA=0, shrinkB=0)\n",
    "    ax.annotate('', v1, v0, arrowprops=arrowprops)\n",
    "\n",
    "# plot data\n",
    "plt.scatter(df.iloc[: , 2:4], df.iloc[: , 4:6], alpha=0.3)\n",
    "for length, vector in zip(pca.explained_variance_, pca.components_):\n",
    "    v = vector * 3 * np.sqrt(length)\n",
    "    \n",
    "plt.axis('equal')\n",
    "plt.grid()"
   ]
  },
  {
   "cell_type": "code",
   "execution_count": 56,
   "metadata": {},
   "outputs": [
    {
     "data": {
      "text/plain": [
       "array([43, 51, 40, 42, 41, 56, 64, 57, 44, 60, 63, 46, 65, 53, 59, 50, 54,\n",
       "       58, 49, 61, 47, 55, 52, 48, 62, 45], dtype=int64)"
      ]
     },
     "execution_count": 56,
     "metadata": {},
     "output_type": "execute_result"
    }
   ],
   "source": [
    "df = pd.read_csv(\"line_c_modultimes.csv\")\n",
    "for index, row in df.iloc[: , 2:].iterrows():\n",
    "    df.loc[index, \"diff\"] = row.max()-row.min()\n",
    "\n",
    "df.sort_values(by=[\"diff\"], inplace=True)\n",
    "jobIds = np.array(df[\"job_ids\"])\n",
    "jobIds = np.flip(jobIds)\n",
    "jobIds"
   ]
  },
  {
   "cell_type": "code",
   "execution_count": 57,
   "metadata": {},
   "outputs": [
    {
     "name": "stdout",
     "output_type": "stream",
     "text": [
      "[[ 0.35229864  0.02150521  0.08336368 -0.03867398  0.53385376 -0.00411222\n",
      "  -0.07039843  0.75960867]\n",
      " [ 0.71425     0.07041999 -0.071186    0.00190578 -0.67329959  0.0654932\n",
      "  -0.03397022  0.1450559 ]]\n"
     ]
    },
    {
     "data": {
      "image/png": "[encoded data removed]",
      "text/plain": [
       "<Figure size 432x288 with 1 Axes>"
      ]
     },
     "metadata": {
      "needs_background": "light"
     },
     "output_type": "display_data"
    }
   ],
   "source": [
    "from sklearn.decomposition import PCA\n",
    "\n",
    "pca = PCA(n_components=2)\n",
    "pca.fit(df.iloc[: , 2:])\n",
    "print(pca.components_)\n",
    "def draw_vector(v0, v1, ax=None):\n",
    "    ax = ax or plt.gca()\n",
    "    arrowprops=dict(arrowstyle='->',\n",
    "                    linewidth=2,\n",
    "                    shrinkA=0, shrinkB=0)\n",
    "    ax.annotate('', v1, v0, arrowprops=arrowprops)\n",
    "\n",
    "# plot data\n",
    "plt.scatter(df.iloc[: , 2:3], df.iloc[: , 3:4], alpha=0.3)\n",
    "for length, vector in zip(pca.explained_variance_, pca.components_):\n",
    "    v = vector * 3 * np.sqrt(length)\n",
    "    \n",
    "plt.axis('equal')\n",
    "plt.grid()"
   ]
  },
  {
   "cell_type": "code",
   "execution_count": 58,
   "metadata": {},
   "outputs": [
    {
     "data": {
      "text/plain": [
       "array([72, 67, 70, 69, 73, 66, 71, 68], dtype=int64)"
      ]
     },
     "execution_count": 58,
     "metadata": {},
     "output_type": "execute_result"
    }
   ],
   "source": [
    "df = pd.read_csv(\"line_d_modultimes.csv\")\n",
    "for index, row in df.iloc[: , 2:].iterrows():\n",
    "    df.loc[index, \"diff\"] = row.max()-row.min()\n",
    "\n",
    "df.sort_values(by=[\"diff\"], inplace=True)\n",
    "jobIds = np.array(df[\"job_ids\"])\n",
    "jobIds = np.flip(jobIds)\n",
    "jobIds"
   ]
  },
  {
   "cell_type": "code",
   "execution_count": 59,
   "metadata": {},
   "outputs": [
    {
     "name": "stdout",
     "output_type": "stream",
     "text": [
      "[[-0.04945036  0.02492878  0.70666153  0.08178723  0.70062369]\n",
      " [ 0.79984282 -0.1650397   0.07177594 -0.56980288  0.05644693]]\n"
     ]
    },
    {
     "data": {
      "image/png": "[encoded data removed]",
      "text/plain": [
       "<Figure size 432x288 with 1 Axes>"
      ]
     },
     "metadata": {
      "needs_background": "light"
     },
     "output_type": "display_data"
    }
   ],
   "source": [
    "from sklearn.decomposition import PCA\n",
    "\n",
    "pca = PCA(n_components=2)\n",
    "pca.fit(df.iloc[: , 2:])\n",
    "print(pca.components_)\n",
    "def draw_vector(v0, v1, ax=None):\n",
    "    ax = ax or plt.gca()\n",
    "    arrowprops=dict(arrowstyle='->',\n",
    "                    linewidth=2,\n",
    "                    shrinkA=0, shrinkB=0)\n",
    "    ax.annotate('', v1, v0, arrowprops=arrowprops)\n",
    "\n",
    "# plot data\n",
    "plt.scatter(df.iloc[: , 2:3], df.iloc[: , 3:4], alpha=0.3)\n",
    "for length, vector in zip(pca.explained_variance_, pca.components_):\n",
    "    v = vector * 3 * np.sqrt(length)\n",
    "    \n",
    "plt.axis('equal')\n",
    "plt.grid()"
   ]
  }
 ],
 "metadata": {
  "interpreter": {
   "hash": "483ac6bdcd1d99ae453fa71a465b94608324a25c023ba0c2c975a28a1be5fd6f"
  },
  "kernelspec": {
   "display_name": "Python 3.8.5 64-bit ('base': conda)",
   "language": "python",
   "name": "python3"
  },
  "language_info": {
   "codemirror_mode": {
    "name": "ipython",
    "version": 3
   },
   "file_extension": ".py",
   "mimetype": "text/x-python",
   "name": "python",
   "nbconvert_exporter": "python",
   "pygments_lexer": "ipython3",
   "version": "3.8.5"
  },
  "orig_nbformat": 4
 },
 "nbformat": 4,
 "nbformat_minor": 2
}
