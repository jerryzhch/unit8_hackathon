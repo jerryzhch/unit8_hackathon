{
 "cells": [
  {
   "cell_type": "code",
   "execution_count": 4,
   "metadata": {},
   "outputs": [],
   "source": [
    "import requests\n",
    "import pandas as pd\n",
    "import json\n",
    "\n",
    "# Replace this with your token (available on hackathon.unit8.com, after logging in)\n",
    "# If your request returns {'detail': 'Invalid token.'} then you did not correctly set this variable\n",
    "TOKEN_ID = 'c6dbf99ddf3075a1f3f10437ab6be872cc534383'\n",
    "\n"
   ]
  },
  {
   "cell_type": "code",
   "execution_count": 2,
   "metadata": {},
   "outputs": [],
   "source": [
    "    ####################################################\n",
    "    # ----- EXAMPLE OF MAIN CHALLENGE SUBMISSION ----- #\n",
    "    ####################################################\n",
    "\n",
    "    # define the job order for each line\n",
    "    # each job from each line has to be in the list corresponding to the line exactly once\n",
    "    job_order = {\"A\": [i for i in range(1, 22)],\n",
    "                 \"B\": [i for i in range(22, 40)],\n",
    "                 \"C\": [i for i in range(40, 66)],\n",
    "                 \"D\": [i for i in range(66, 74)]}\n",
    "    # submission has to have the format dict(\"job_order\": dict(string_keys: list of integers))\n",
    "    submission = {\"job_order\": job_order}\n",
    "\n",
    "    \"\"\"\n",
    "    call the API and get back a requests.models.Response object consisting of:\n",
    "        - submission_id\n",
    "        - avg_score: an average of the processing time of the four lines\n",
    "        - score_line_A: the processing time of line A\n",
    "        - score_line_B: the processing time of line B\n",
    "        - score_line_C: the processing time of line C\n",
    "        - score_line_D: the processing time of line D\n",
    "        - log: a log file containing all information of the processing of all modules (as dictionary (!))\n",
    "    \"\"\"\n",
    "    response = requests.post('https://hackathon.unit8.com/api/submit',\n",
    "                             headers={'Authorization': f'Token {TOKEN_ID}', 'Content-Type': 'application/json'},\n",
    "                             json=submission\n",
    "                             )\n"
   ]
  },
  {
   "cell_type": "code",
   "execution_count": null,
   "metadata": {},
   "outputs": [],
   "source": [
    "\n",
    "    # convert the response object to a dictionary for further processing\n",
    "    print(response.text)\n",
    "    response = response.json()\n",
    "    print(response)"
   ]
  },
  {
   "cell_type": "code",
   "execution_count": null,
   "metadata": {},
   "outputs": [],
   "source": [
    "\n",
    "    ############################################################\n",
    "    # ----- EXAMPLE OF SIDE CHALLENGE RESOURCE RETRIEVAL ----- #\n",
    "    ############################################################\n",
    "\n",
    "    # resource retrieval needs to follow the format dict(\"challenge_id\": integer)\n",
    "    submission_side_challenge = {\"challenge_id\": 1}  # the challenge id indicated in the documentation\n",
    "    response = requests.get('https://hackathon.unit8.com/api/get_resource',\n",
    "                            headers={'Authorization': f'Token {TOKEN_ID}', 'Content-Type': 'application/json'},\n",
    "                            json=submission_side_challenge\n",
    "                            )\n",
    "    print(response.json())"
   ]
  },
  {
   "cell_type": "code",
   "execution_count": 5,
   "metadata": {},
   "outputs": [
    {
     "name": "stdout",
     "output_type": "stream",
     "text": [
      "CHALLENGE SCAN MASTER WON!\n"
     ]
    }
   ],
   "source": [
    "\n",
    "    ####################################################\n",
    "    # ----- EXAMPLE OF SIDE CHALLENGE SUBMISSION ----- #\n",
    "    ####################################################\n",
    "\n",
    "    submission_side_challenge = {\"challenge_id\": 9,  # the challenge id indicated in the documentation\n",
    "                                 \"submission\": \"scanmaster\"  # your solution\n",
    "                                 }\n",
    "    response = requests.post('https://hackathon.unit8.com/api/submit',\n",
    "                             headers={'Authorization': f'Token {TOKEN_ID}', 'Content-Type': 'application/json'},\n",
    "                             json=submission_side_challenge\n",
    "                             )\n",
    "    print(response.json())\n"
   ]
  }
 ],
 "metadata": {
  "interpreter": {
   "hash": "483ac6bdcd1d99ae453fa71a465b94608324a25c023ba0c2c975a28a1be5fd6f"
  },
  "kernelspec": {
   "display_name": "Python 3.8.5 64-bit ('base': conda)",
   "language": "python",
   "name": "python3"
  },
  "language_info": {
   "codemirror_mode": {
    "name": "ipython",
    "version": 3
   },
   "file_extension": ".py",
   "mimetype": "text/x-python",
   "name": "python",
   "nbconvert_exporter": "python",
   "pygments_lexer": "ipython3",
   "version": "3.8.5"
  },
  "orig_nbformat": 4
 },
 "nbformat": 4,
 "nbformat_minor": 2
}
