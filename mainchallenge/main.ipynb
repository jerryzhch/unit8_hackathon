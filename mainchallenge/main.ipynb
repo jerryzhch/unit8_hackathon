{
 "cells": [
  {
   "cell_type": "code",
   "execution_count": 162,
   "metadata": {},
   "outputs": [],
   "source": [
    "import pandas as pd\n",
    "import datetime as datetime\n",
    "import numpy as np\n",
    "df = pd.read_csv('production_line_optimization_first_log.csv')\n",
    "df_sanitized = df.drop(df.columns[0], axis=1).drop_duplicates()\n",
    "df_sorted = df_sanitized.sort_values(by=[\"line\"])\n",
    "\n",
    "dfArrA = []\n",
    "dfArrB = []\n",
    "dfArrC = []\n",
    "dfArrD = []\n",
    "for x in range (1,22):\n",
    "    dfArrA.append(df_sanitized[df_sanitized[\"job_id\"] == x].sort_values(by=[\"time\"]))\n",
    "for x in range (22,40):\n",
    "   dfArrB.append(df_sanitized[df_sanitized[\"job_id\"] == x].sort_values(by=[\"time\"]))\n",
    "for x in range (40,66):\n",
    "   dfArrC.append(df_sanitized[df_sanitized[\"job_id\"] == x].sort_values(by=[\"time\"]))\n",
    "for x in range (66,74):\n",
    "   dfArrD.append(df_sanitized[df_sanitized[\"job_id\"] == x].sort_values(by=[\"time\"]))\n",
    "\n",
    "dfAllA = pd.concat(dfArrA).sort_values([\"time\"])\n",
    "\n",
    "dict = {}\n",
    "for y in range (1,3):\n",
    "    module1A = dfAllA[dfAllA[\"module\"] == y]\n",
    "    times = []\n",
    "    for x in range (1,22):\n",
    "        job = module1A[module1A[\"job_id\"] == x]\n",
    "        start = job[job[\"state\"] == \"fetching_job\"][\"time\"].values[0]\n",
    "        end = job[job[\"state\"] == \"storing_job\"][\"time\"].values[0]\n",
    "        times.append((datetime.datetime.fromisoformat(end)-datetime.datetime.fromisoformat(start)).total_seconds()*1000)\n",
    "    dict[\"modul\"+str(y)+\"times\"] = times\n",
    "\n",
    "module1A = dfAllA[dfAllA[\"module\"] == 3]\n",
    "times = []\n",
    "for x in range (1,22):\n",
    "    if (x < 21):\n",
    "        job = module1A[module1A[\"job_id\"] == x]\n",
    "        start = job[job[\"state\"] == \"fetching_job\"][\"time\"].values[0]\n",
    "        job = module1A[module1A[\"job_id\"] == x+1]\n",
    "        if (len(job[job[\"state\"] == \"waiting_on_precedent\"]) > 0):\n",
    "            end = job[job[\"state\"] == \"waiting_on_precedent\"][\"time\"].values[0]\n",
    "        else:\n",
    "            end = job[job[\"state\"] == \"fetching_job\"][\"time\"].values[0]\n",
    "        times.append((datetime.datetime.fromisoformat(end)-datetime.datetime.fromisoformat(start)).total_seconds()*1000)\n",
    "    else :\n",
    "        job = module1A[module1A[\"job_id\"] == x]\n",
    "        start = job[job[\"state\"] == \"fetching_job\"][\"time\"].values[0]\n",
    "        end = job[job[\"state\"] == \"idle\"][\"time\"].values[0]\n",
    "        times.append((datetime.datetime.fromisoformat(end)-datetime.datetime.fromisoformat(start)).total_seconds()*1000)\n",
    "dict[\"modul3times\"] = times\n",
    "dict\n",
    "\n",
    "pd.DataFrame.from_dict(dict).to_csv(\"line_a_modultimes.csv\")\n",
    "        \n",
    "\n"
   ]
  },
  {
   "cell_type": "code",
   "execution_count": null,
   "metadata": {},
   "outputs": [],
   "source": []
  }
 ],
 "metadata": {
  "interpreter": {
   "hash": "483ac6bdcd1d99ae453fa71a465b94608324a25c023ba0c2c975a28a1be5fd6f"
  },
  "kernelspec": {
   "display_name": "Python 3.8.5 64-bit ('base': conda)",
   "language": "python",
   "name": "python3"
  },
  "language_info": {
   "codemirror_mode": {
    "name": "ipython",
    "version": 3
   },
   "file_extension": ".py",
   "mimetype": "text/x-python",
   "name": "python",
   "nbconvert_exporter": "python",
   "pygments_lexer": "ipython3",
   "version": "3.8.5"
  },
  "orig_nbformat": 4
 },
 "nbformat": 4,
 "nbformat_minor": 2
}
