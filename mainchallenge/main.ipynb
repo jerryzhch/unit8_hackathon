{
 "cells": [
  {
   "cell_type": "code",
   "execution_count": 225,
   "metadata": {},
   "outputs": [],
   "source": [
    "import pandas as pd\n",
    "import datetime as datetime\n",
    "import numpy as np\n",
    "df = pd.read_csv('production_line_optimization_first_log.csv')\n",
    "df_sanitized = df.drop(df.columns[0], axis=1).drop_duplicates()\n",
    "df_sorted = df_sanitized.sort_values(by=[\"line\"])\n",
    "\n",
    "dfArrA = []\n",
    "dfArrB = []\n",
    "dfArrC = []\n",
    "dfArrD = []\n",
    "for x in range (1,22):\n",
    "    dfArrA.append(df_sanitized[df_sanitized[\"job_id\"] == x].sort_values(by=[\"time\"]))\n",
    "for x in range (22,40):\n",
    "   dfArrB.append(df_sanitized[df_sanitized[\"job_id\"] == x].sort_values(by=[\"time\"]))\n",
    "for x in range (40,66):\n",
    "   dfArrC.append(df_sanitized[df_sanitized[\"job_id\"] == x].sort_values(by=[\"time\"]))\n",
    "for x in range (66,74):\n",
    "   dfArrD.append(df_sanitized[df_sanitized[\"job_id\"] == x].sort_values(by=[\"time\"]))\n",
    "\n"
   ]
  },
  {
   "cell_type": "code",
   "execution_count": 226,
   "metadata": {},
   "outputs": [
    {
     "name": "stdout",
     "output_type": "stream",
     "text": [
      "{'job_ids': [1, 2, 3, 4, 5, 6, 7, 8, 9, 10, 11, 12, 13, 14, 15, 16, 17, 18, 19, 20, 21], 'modul1times': [4275245.0, 2143220.6, 1736978.4, 2656078.4, 3175210.0, 2420788.8, 1939180.4, 2729606.4, 2944675.8, 2257189.0, 1569184.2, 3521870.6, 1654259.4, 3233273.2, 4175220.0000000005, 2768208.6, 2596467.6, 3538414.4, 3703852.4000000004, 3225920.4, 2788428.8000000003], 'modul2times': [3591722.199, 2661593.0, 3575178.4, 612000.0, 3360109.0, 3088055.4000000004, 3942818.4, 2740635.6, 3521870.6, 612000.0, 4275532.6, 3668926.5999999996, 2343584.4000000004, 3527385.2, 3538414.4, 3703852.4000000004, 3225920.4, 2788428.8000000003, 3367461.8, 3135848.5999999996, 2713062.6], 'modul3times': [2551300.999, 2341746.2, 2804972.6, 2959381.4000000004, 2159764.4, 612000.0, 2286600.1999999997, 2540271.8, 1793962.6, 4091712.5999999996, 2678136.8000000003, 2538433.5999999996, 2080721.7999999998, 3209376.6, 2547624.6, 2361966.4, 2367481.0, 2895044.4000000004, 612000.0, 2520051.5999999996, 2974087.0]}\n"
     ]
    }
   ],
   "source": [
    "\n",
    "dfAllA = pd.concat(dfArrA).sort_values([\"time\"])\n",
    "\n",
    "dict = {}\n",
    "for y in range (1,3):\n",
    "    module = dfAllA[dfAllA[\"module\"] == y]\n",
    "    times = []\n",
    "    job_ids = []\n",
    "    for x in range (1,22):\n",
    "        job = module[module[\"job_id\"] == x]\n",
    "        start = job[job[\"state\"] == \"fetching_job\"][\"time\"].values[0]\n",
    "        end = job[job[\"state\"] == \"storing_job\"][\"time\"].values[0]\n",
    "        job_ids.append(x)\n",
    "        times.append((datetime.datetime.fromisoformat(end)-datetime.datetime.fromisoformat(start)).total_seconds()*1000)\n",
    "    dict[\"job_ids\"] = job_ids\n",
    "    dict[\"modul\"+str(y)+\"times\"] = times\n",
    "\n",
    "module = dfAllA[dfAllA[\"module\"] == 3]\n",
    "times = []\n",
    "for x in range (1,22):\n",
    "    if (x < 21):\n",
    "        job = module[module[\"job_id\"] == x]\n",
    "        start = job[job[\"state\"] == \"fetching_job\"][\"time\"].values[0]\n",
    "        job = module[module[\"job_id\"] == x+1]\n",
    "        if (len(job[job[\"state\"] == \"waiting_on_precedent\"]) > 0):\n",
    "            end = job[job[\"state\"] == \"waiting_on_precedent\"][\"time\"].values[0]\n",
    "        else:\n",
    "            end = job[job[\"state\"] == \"fetching_job\"][\"time\"].values[0]\n",
    "        times.append((datetime.datetime.fromisoformat(end)-datetime.datetime.fromisoformat(start)).total_seconds()*1000)\n",
    "    else :\n",
    "        job = module[module[\"job_id\"] == x]\n",
    "        start = job[job[\"state\"] == \"fetching_job\"][\"time\"].values[0]\n",
    "        end = job[job[\"state\"] == \"idle\"][\"time\"].values[0]\n",
    "        times.append((datetime.datetime.fromisoformat(end)-datetime.datetime.fromisoformat(start)).total_seconds()*1000)\n",
    "dict[\"modul3times\"] = times\n",
    "print(dict)\n",
    "\n",
    "pd.DataFrame.from_dict(dict).to_csv(\"line_a_modultimes.csv\")\n",
    "        "
   ]
  },
  {
   "cell_type": "code",
   "execution_count": 227,
   "metadata": {},
   "outputs": [
    {
     "name": "stdout",
     "output_type": "stream",
     "text": [
      "{'job_ids': [22, 23, 24, 25, 26, 27, 28, 29, 30, 31, 32, 33, 34, 35, 36, 37, 38, 39], 'modul1times': [1276659.5999999999, 1499081.7999999998, 1576286.1989999998, 1225190.001, 1539522.2000000002, 2019292.4000000001, 2486135.8, 3122212.4, 2738028.6, 2804203.8, 2710455.5999999996, 2568914.2, 1774811.8, 3616688.199, 2041350.8, 1931058.8, 3135447.44, 3036184.64], 'modul2times': [3318899.8000000003, 2186568.6, 2221494.4, 2618545.6, 3122212.399, 2738028.601, 2804203.8, 2710455.5999999996, 2568914.2, 1774811.8, 3616688.199, 2041350.8, 398000.0, 2519282.801, 2826262.1989999996, 2449431.2, 4417040.481, 398000.0], 'modul3times': [2420020.0, 398000.0, 2142451.8, 398000.0, 2300537.001, 398000.0, 1666358.0, 1670034.4, 1964146.4000000001, 1522978.4, 1653490.6, 1594668.2000000002, 2177377.5999999996, 1991719.401, 2135099.0, 398000.0, 3292062.08, 3845727.92], 'modul4times': [2164510.2, 2267449.4, 3096477.6, 4993500.0, 2022968.8, 2392447.0, 2692073.6, 2848320.6, 2828100.4, 2190245.0, 1953117.2, 2559723.1999999997, 1932897.0, 2758248.8, 1943926.2000000002, 2828100.4, 3680289.9200000004, 4461157.28], 'modul5times': [2464136.8000000003, 2776630.8, 3074419.1999999997, 2234361.8000000003, 2017454.2, 2670015.1999999997, 2482518.8, 398000.0, 1993557.6, 2747219.6, 398000.0, 2469651.4000000004, 2392447.0, 2181054.0, 2195759.6, 3050522.5999999996, 4019989.28, 3700142.4790000003], 'modul6times': [2818020.0, 796000.0, 2540451.8, 796000.0, 2698537.001, 796000.0, 2064358.0000000002, 2068034.4, 2362146.4, 1920978.4, 2051490.6, 1992668.2000000002, 2575377.5999999996, 2389719.4009999996, 2533099.0, 796000.0, 3690062.08, 4243727.92]}\n"
     ]
    }
   ],
   "source": [
    "\n",
    "dfAllB = pd.concat(dfArrB).sort_values([\"time\"])\n",
    "\n",
    "dict = {}\n",
    "for y in range (1,6):\n",
    "    module = dfAllB[dfAllB[\"module\"] == y]\n",
    "    times = []\n",
    "    job_ids = []\n",
    "    for x in range (22,40):\n",
    "        job = module[module[\"job_id\"] == x]\n",
    "        start = job[job[\"state\"] == \"fetching_job\"][\"time\"].values[0]\n",
    "        end = job[job[\"state\"] == \"storing_job\"][\"time\"].values[0]\n",
    "        job_ids.append(x)\n",
    "        times.append((datetime.datetime.fromisoformat(end)-datetime.datetime.fromisoformat(start)).total_seconds()*1000)\n",
    "    dict[\"job_ids\"] = job_ids\n",
    "    dict[\"modul\"+str(y)+\"times\"] = times\n",
    "\n",
    "module = dfAllB[dfAllB[\"module\"] == 3]\n",
    "times = []\n",
    "for x in range (22,40):\n",
    "    if (x < 39):\n",
    "        job = module[module[\"job_id\"] == x]\n",
    "        start = job[job[\"state\"] == \"fetching_job\"][\"time\"].values[0]\n",
    "        job = module[module[\"job_id\"] == x+1]\n",
    "        if (len(job[job[\"state\"] == \"waiting_on_precedent\"]) > 0):\n",
    "            end = job[job[\"state\"] == \"waiting_on_precedent\"][\"time\"].values[0]\n",
    "        else:\n",
    "            end = job[job[\"state\"] == \"fetching_job\"][\"time\"].values[0]\n",
    "        times.append((datetime.datetime.fromisoformat(end)-datetime.datetime.fromisoformat(start)).total_seconds()*1000)\n",
    "    else :\n",
    "        job = module[module[\"job_id\"] == x]\n",
    "        start = job[job[\"state\"] == \"fetching_job\"][\"time\"].values[0]\n",
    "        end = job[job[\"state\"] == \"idle\"][\"time\"].values[0]\n",
    "        times.append((datetime.datetime.fromisoformat(end)-datetime.datetime.fromisoformat(start)).total_seconds()*1000)\n",
    "dict[\"modul6times\"] = times\n",
    "print(dict)\n",
    "\n",
    "pd.DataFrame.from_dict(dict).to_csv(\"line_b_modultimes.csv\")"
   ]
  },
  {
   "cell_type": "code",
   "execution_count": 228,
   "metadata": {},
   "outputs": [
    {
     "name": "stdout",
     "output_type": "stream",
     "text": [
      "{'job_ids': [40, 41, 42, 43, 44, 45, 46, 47, 48, 49, 50, 51, 52, 53, 54, 55, 56, 57, 58, 59, 60, 61, 62, 63, 64, 65], 'modul1times': [1773740.8, 1504326.2, 1649762.4000000001, 1282595.6, 286000.0, 934502.399, 1318358.6, 286000.0, 1022717.8, 286000.0, 1344584.801, 5652834.2, 286000.0, 1370811.0, 1292132.4, 286000.0, 1346969.0, 1304053.4, 1110933.2, 965497.0, 1408958.2, 805755.6, 286000.0, 1139543.5990000002, 1344584.8, 1382732.0010000002], 'modul2times': [286000.0, 286000.0, 286000.0, 286000.0, 1299285.0, 286000.0, 286000.0, 1211069.6, 286000.0, 286000.0, 1239680.0, 1349353.2, 1187227.5999999999, 286000.0, 286000.0, 1027486.2000000001, 927349.7999999999, 286000.0, 286000.0, 1196764.4, 286000.0, 286000.0, 286000.0, 286000.0, 286000.0, 286000.0], 'modul3times': [286000.0, 286000.0, 286000.0, 1311206.0, 1442336.999, 286000.0, 286000.0, 286000.0, 1130006.8, 2732605.201, 286000.0, 1146696.2000000002, 1103780.6, 286000.0, 286000.0, 286000.0, 286000.0, 1213453.8, 1153848.8, 1346969.0, 812908.2, 834366.0, 1120470.0, 1406574.0, 829597.6000000001, 822445.0], 'modul4times': [286000.0, 286000.0, 286000.0, 286000.0, 286000.0, 786682.001, 4072317.5999999996, 286000.0, 286000.0, 1161001.4000000001, 286000.0, 286000.0, 286000.0, 1029870.4, 286000.0, 286000.0, 1048944.0, 286000.0, 1304053.4, 286000.0, 286000.0, 286000.0, 286000.0, 286000.0, 286000.0, 286000.0], 'modul5times': [286000.0, 286000.0, 286000.0, 6301336.6, 286000.0, 286000.0, 286000.0, 286000.0, 1146696.2000000002, 905892.0, 1072786.0, 286000.0, 1089475.4000000001, 286000.0, 286000.0, 1189611.7999999998, 1470947.4, 286000.0, 286000.0, 963112.8, 1323127.0, 834366.0, 989339.0, 824829.2000000001, 1444721.2, 1191996.0], 'modul6times': [286000.0, 286000.0, 286000.0, 286000.0, 286000.0, 286000.0, 286000.0, 982186.4, 286000.0, 1296900.799, 1194380.2, 1003644.2, 286000.0, 286000.0, 1344584.8, 286000.0, 1370811.0, 1447105.4, 286000.0, 1010796.7999999999, 1044175.6, 1130006.8, 286000.0, 1172922.4, 1444721.2, 286000.0], 'modul7times': [572000.0, 572000.0, 572000.0, 1597206.0, 1728336.999, 572000.0, 572000.0, 572000.0, 1416006.8, 3018605.201, 572000.0, 1432696.2000000002, 1389780.6, 572000.0, 572000.0, 572000.0, 572000.0, 1499453.8, 1439848.8, 1632969.0, 1098908.2000000002, 1120366.0, 1406470.0, 1692574.0, 1115597.6, 1108445.0]}\n"
     ]
    }
   ],
   "source": [
    "\n",
    "dfAllC = pd.concat(dfArrC).sort_values([\"time\"])\n",
    "\n",
    "dict = {}\n",
    "for y in range (1,7):\n",
    "    module = dfAllC[dfAllC[\"module\"] == y]\n",
    "    times = []\n",
    "    job_ids = []\n",
    "    for x in range (40,66):\n",
    "        job = module[module[\"job_id\"] == x]\n",
    "        start = job[job[\"state\"] == \"fetching_job\"][\"time\"].values[0]\n",
    "        end = job[job[\"state\"] == \"storing_job\"][\"time\"].values[0]\n",
    "        job_ids.append(x)\n",
    "        times.append((datetime.datetime.fromisoformat(end)-datetime.datetime.fromisoformat(start)).total_seconds()*1000)\n",
    "    dict[\"job_ids\"] = job_ids\n",
    "    dict[\"modul\"+str(y)+\"times\"] = times\n",
    "\n",
    "module = dfAllC[dfAllC[\"module\"] == 3]\n",
    "times = []\n",
    "for x in range (40,66):\n",
    "    if (x < 65):\n",
    "        job = module[module[\"job_id\"] == x]\n",
    "        start = job[job[\"state\"] == \"fetching_job\"][\"time\"].values[0]\n",
    "        job = module[module[\"job_id\"] == x+1]\n",
    "        if (len(job[job[\"state\"] == \"waiting_on_precedent\"]) > 0):\n",
    "            end = job[job[\"state\"] == \"waiting_on_precedent\"][\"time\"].values[0]\n",
    "        else:\n",
    "            end = job[job[\"state\"] == \"fetching_job\"][\"time\"].values[0]\n",
    "        times.append((datetime.datetime.fromisoformat(end)-datetime.datetime.fromisoformat(start)).total_seconds()*1000)\n",
    "    else :\n",
    "        job = module[module[\"job_id\"] == x]\n",
    "        start = job[job[\"state\"] == \"fetching_job\"][\"time\"].values[0]\n",
    "        end = job[job[\"state\"] == \"idle\"][\"time\"].values[0]\n",
    "        times.append((datetime.datetime.fromisoformat(end)-datetime.datetime.fromisoformat(start)).total_seconds()*1000)\n",
    "dict[\"modul7times\"] = times\n",
    "print(dict)\n",
    "\n",
    "pd.DataFrame.from_dict(dict).to_csv(\"line_c_modultimes.csv\")"
   ]
  },
  {
   "cell_type": "code",
   "execution_count": 229,
   "metadata": {},
   "outputs": [
    {
     "name": "stdout",
     "output_type": "stream",
     "text": [
      "{'job_ids': [66, 67, 68, 69, 70, 71, 72, 73], 'modul1times': [974865.0, 1184674.6, 962944.0, 1729550.0, 729292.4, 1220437.5999999999, 822276.2000000001, 1170369.4000000001], 'modul2times': [1125069.6, 688761.0, 936717.8, 960559.8, 1039238.3999999999, 924796.7999999999, 1141759.0, 1036854.2], 'modul3times': [1685356.599, 1823640.199, 1077385.6, 1406405.2, 1785493.0, 1272890.0, 6215336.6, 1194211.4], 'modul4times': [1885356.6, 2023640.199, 1277385.6, 1606405.2, 1985493.0, 1472890.0, 6415336.6, 1394211.4]}\n"
     ]
    }
   ],
   "source": [
    "\n",
    "dfAllD = pd.concat(dfArrD).sort_values([\"time\"])\n",
    "\n",
    "dict = {}\n",
    "for y in range (1,4):\n",
    "    module = dfAllD[dfAllD[\"module\"] == y]\n",
    "    times = []\n",
    "    job_ids = []\n",
    "    for x in range (66,74):\n",
    "        job = module[module[\"job_id\"] == x]\n",
    "        start = job[job[\"state\"] == \"fetching_job\"][\"time\"].values[0]\n",
    "        end = job[job[\"state\"] == \"storing_job\"][\"time\"].values[0]\n",
    "        job_ids.append(x)\n",
    "        times.append((datetime.datetime.fromisoformat(end)-datetime.datetime.fromisoformat(start)).total_seconds()*1000)\n",
    "    dict[\"job_ids\"] = job_ids\n",
    "    dict[\"modul\"+str(y)+\"times\"] = times\n",
    "\n",
    "module = dfAllD[dfAllD[\"module\"] == 3]\n",
    "times = []\n",
    "for x in range (66,74):\n",
    "    if (x < 73):\n",
    "        job = module[module[\"job_id\"] == x]\n",
    "        start = job[job[\"state\"] == \"fetching_job\"][\"time\"].values[0]\n",
    "        job = module[module[\"job_id\"] == x+1]\n",
    "        if (len(job[job[\"state\"] == \"waiting_on_precedent\"]) > 0):\n",
    "            end = job[job[\"state\"] == \"waiting_on_precedent\"][\"time\"].values[0]\n",
    "        else:\n",
    "            end = job[job[\"state\"] == \"fetching_job\"][\"time\"].values[0]\n",
    "        times.append((datetime.datetime.fromisoformat(end)-datetime.datetime.fromisoformat(start)).total_seconds()*1000)\n",
    "    else :\n",
    "        job = module[module[\"job_id\"] == x]\n",
    "        start = job[job[\"state\"] == \"fetching_job\"][\"time\"].values[0]\n",
    "        end = job[job[\"state\"] == \"idle\"][\"time\"].values[0]\n",
    "        times.append((datetime.datetime.fromisoformat(end)-datetime.datetime.fromisoformat(start)).total_seconds()*1000)\n",
    "dict[\"modul4times\"] = times\n",
    "print(dict)\n",
    "\n",
    "pd.DataFrame.from_dict(dict).to_csv(\"line_d_modultimes.csv\")"
   ]
  },
  {
   "cell_type": "code",
   "execution_count": 241,
   "metadata": {},
   "outputs": [
    {
     "data": {
      "text/plain": [
       "array([ 1, 15, 14, 12, 18, 20, 16,  5, 11, 21,  9, 17,  7,  3,  8, 19,  2,\n",
       "       10,  4,  6, 13], dtype=int64)"
      ]
     },
     "execution_count": 241,
     "metadata": {},
     "output_type": "execute_result"
    }
   ],
   "source": [
    "df = pd.read_csv(\"line_a_modultimes.csv\")\n",
    "df\n",
    "df[\"sum\"] = df.iloc[:, 2:].sum(axis=1)\n",
    "df[\"mean\"] = df.iloc[:, 2:].mean(axis=1)\n",
    "df = df.sort_values(by=[\"sum\"], ascending=False)\n",
    "jobIds = np.array(df[\"job_ids\"])\n",
    "jobIds"
   ]
  },
  {
   "cell_type": "code",
   "execution_count": 242,
   "metadata": {},
   "outputs": [
    {
     "data": {
      "text/plain": [
       "array([38, 39, 35, 24, 22, 30, 28, 26, 36, 33, 31, 29, 32, 25, 37, 34, 27,\n",
       "       23], dtype=int64)"
      ]
     },
     "execution_count": 242,
     "metadata": {},
     "output_type": "execute_result"
    }
   ],
   "source": [
    "df = pd.read_csv(\"line_b_modultimes.csv\")\n",
    "df[\"sum\"] = df.iloc[:, 2:].sum(axis=1)\n",
    "df[\"mean\"] = df.iloc[:, 2:].mean(axis=1)\n",
    "df = df.sort_values(by=[\"sum\"], ascending=False)\n",
    "jobIds = np.array(df[\"job_ids\"])\n",
    "jobIds"
   ]
  },
  {
   "cell_type": "code",
   "execution_count": 243,
   "metadata": {},
   "outputs": [
    {
     "data": {
      "text/plain": [
       "array([43, 51, 49, 59, 46, 56, 63, 64, 57, 60, 50, 58, 52, 44, 48, 65, 61,\n",
       "       62, 54, 53, 55, 47, 40, 42, 41, 45], dtype=int64)"
      ]
     },
     "execution_count": 243,
     "metadata": {},
     "output_type": "execute_result"
    }
   ],
   "source": [
    "df = pd.read_csv(\"line_c_modultimes.csv\")\n",
    "df[\"sum\"] = df.iloc[:, 2:].sum(axis=1)\n",
    "df[\"mean\"] = df.iloc[:, 2:].mean(axis=1)\n",
    "df = df.sort_values(by=[\"sum\"], ascending=False)\n",
    "jobIds = np.array(df[\"job_ids\"])\n",
    "jobIds"
   ]
  },
  {
   "cell_type": "code",
   "execution_count": 233,
   "metadata": {},
   "outputs": [
    {
     "data": {
      "text/plain": [
       "array([68, 73, 71, 70, 66, 69, 67, 72], dtype=int64)"
      ]
     },
     "execution_count": 233,
     "metadata": {},
     "output_type": "execute_result"
    }
   ],
   "source": [
    "df = pd.read_csv(\"line_d_modultimes.csv\")\n",
    "df[\"sum\"] = df.iloc[:, 2:].sum(axis=1)\n",
    "df[\"mean\"] = df.iloc[:, 2:].mean(axis=1)\n",
    "df = df.sort_values(by=[\"sum\"], ascending=False)\n",
    "jobIds = np.array(df[\"job_ids\"])\n",
    "jobIds"
   ]
  }
 ],
 "metadata": {
  "interpreter": {
   "hash": "483ac6bdcd1d99ae453fa71a465b94608324a25c023ba0c2c975a28a1be5fd6f"
  },
  "kernelspec": {
   "display_name": "Python 3.8.5 64-bit ('base': conda)",
   "language": "python",
   "name": "python3"
  },
  "language_info": {
   "codemirror_mode": {
    "name": "ipython",
    "version": 3
   },
   "file_extension": ".py",
   "mimetype": "text/x-python",
   "name": "python",
   "nbconvert_exporter": "python",
   "pygments_lexer": "ipython3",
   "version": "3.8.5"
  },
  "orig_nbformat": 4
 },
 "nbformat": 4,
 "nbformat_minor": 2
}
