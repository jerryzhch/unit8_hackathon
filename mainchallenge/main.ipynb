{
 "cells": [
  {
   "cell_type": "code",
   "execution_count": 30,
   "metadata": {},
   "outputs": [
    {
     "name": "stdout",
     "output_type": "stream",
     "text": [
      "     line  module  job_id                 state                        time\n",
      "1156    A       1      21          fetching_job  2022-02-18T20:01:44.843600\n",
      "116     A       1      21            processing  2022-02-18T20:11:56.843600\n",
      "1055    A       1      21       waiting_on_next  2022-02-18T20:44:10.630000\n",
      "336     A       1      21           storing_job  2022-02-18T20:48:13.272400\n",
      "929     A       1      21                  idle  2022-02-18T20:58:25.272400\n",
      "40      A       2      21          fetching_job  2022-02-18T22:46:48.582800\n",
      "410     A       2      21            processing  2022-02-18T22:57:00.582800\n",
      "906     A       3      21  waiting_on_precedent  2022-02-18T23:28:48.634400\n",
      "1122    A       2      21           storing_job  2022-02-18T23:32:01.645400\n",
      "33      A       3      21          fetching_job  2022-02-18T23:42:13.645400\n",
      "1307    A       2      21                  idle  2022-02-18T23:42:13.645400\n",
      "45      A       3      21            processing  2022-02-18T23:52:25.645400\n",
      "465     A       3      21                  idle  2022-02-19T00:31:47.732400\n",
      "     line  module  job_id                 state                        time\n",
      "803     B       1      39          fetching_job  2022-02-18T13:27:11.339639\n",
      "399     B       1      39            processing  2022-02-18T13:33:49.339639\n",
      "1191    B       1      39           storing_job  2022-02-18T14:17:47.524279\n",
      "713     B       1      39                  idle  2022-02-18T14:24:25.524279\n",
      "859     B       2      39          fetching_job  2022-02-18T15:39:32.850080\n",
      "897     B       2      39           storing_job  2022-02-18T15:46:10.850080\n",
      "186     B       2      39            processing  2022-02-18T15:46:10.850080\n",
      "506     B       2      39                  idle  2022-02-18T15:52:48.850080\n",
      "176     B       3      39          fetching_job  2022-02-18T16:41:02.912160\n",
      "1       B       3      39            processing  2022-02-18T16:47:40.912160\n",
      "459     B       3      39           storing_job  2022-02-18T17:45:08.640080\n",
      "153     B       4      39  waiting_on_precedent  2022-02-18T17:49:01.202080\n",
      "1079    B       4      39          fetching_job  2022-02-18T17:51:46.640080\n",
      "992     B       3      39                  idle  2022-02-18T17:51:46.640080\n",
      "378     B       4      39            processing  2022-02-18T17:58:24.640080\n",
      "593     B       5      39  waiting_on_precedent  2022-02-18T19:02:39.191360\n",
      "86      B       4      39           storing_job  2022-02-18T19:06:07.797360\n",
      "1025    B       5      39          fetching_job  2022-02-18T19:12:45.797360\n",
      "1410    B       4      39                  idle  2022-02-18T19:12:45.797360\n",
      "89      B       5      39            processing  2022-02-18T19:19:23.797360\n",
      "240     B       6      39  waiting_on_precedent  2022-02-18T19:48:41.851840\n",
      "660     B       5      39           storing_job  2022-02-18T20:14:25.939839\n",
      "1397    B       6      39          fetching_job  2022-02-18T20:21:03.939839\n",
      "645     B       5      39                  idle  2022-02-18T20:21:03.939839\n",
      "1126    B       6      39            processing  2022-02-18T20:27:41.939839\n",
      "1220    B       6      39                  idle  2022-02-18T21:09:03.509840\n",
      "     line  module  job_id                 state                        time\n",
      "818     C       1      65          fetching_job  2022-02-18T11:23:58.660999\n",
      "936     C       1      65            processing  2022-02-18T11:28:44.660999\n",
      "317     C       2      65  waiting_on_precedent  2022-02-18T11:33:30.660999\n",
      "589     C       1      65           storing_job  2022-02-18T11:47:01.393000\n",
      "497     C       2      65          fetching_job  2022-02-18T11:51:47.393000\n",
      "896     C       1      65                  idle  2022-02-18T11:51:47.393000\n",
      "825     C       2      65            processing  2022-02-18T11:56:33.393000\n",
      "1298    C       2      65           storing_job  2022-02-18T11:56:33.393000\n",
      "236     C       2      65                  idle  2022-02-18T12:01:19.393000\n",
      "163     C       3      65          fetching_job  2022-02-18T12:16:13.468000\n",
      "707     C       3      65            processing  2022-02-18T12:20:59.468000\n",
      "774     C       4      65  waiting_on_precedent  2022-02-18T12:25:45.468000\n",
      "1207    C       3      65           storing_job  2022-02-18T12:29:55.913000\n",
      "648     C       3      65                  idle  2022-02-18T12:34:41.913000\n",
      "668     C       4      65          fetching_job  2022-02-18T12:34:41.913000\n",
      "233     C       4      65            processing  2022-02-18T12:39:27.913000\n",
      "581     C       4      65           storing_job  2022-02-18T12:39:27.913000\n",
      "297     C       4      65                  idle  2022-02-18T12:44:13.913000\n",
      "1326    C       5      65          fetching_job  2022-02-18T12:54:36.189200\n",
      "1359    C       5      65            processing  2022-02-18T12:59:22.189200\n",
      "28      C       5      65           storing_job  2022-02-18T13:14:28.185200\n",
      "579     C       5      65                  idle  2022-02-18T13:19:14.185200\n",
      "1218    C       6      65          fetching_job  2022-02-18T13:23:26.910400\n",
      "184     C       6      65           storing_job  2022-02-18T13:28:12.910400\n",
      "926     C       6      65            processing  2022-02-18T13:28:12.910400\n",
      "938     C       6      65                  idle  2022-02-18T13:32:58.910400\n",
      "1169    C       7      65          fetching_job  2022-02-18T13:47:50.705200\n",
      "1408    C       7      65            processing  2022-02-18T13:52:36.705200\n",
      "172     C       7      65                  idle  2022-02-18T14:07:14.090800\n",
      "[     line  module  job_id         state                        time\n",
      "543     D       1      71  fetching_job  2022-02-18T02:49:41.326000\n",
      "869     D       1      71    processing  2022-02-18T02:53:01.326000\n",
      "493     D       1      71   storing_job  2022-02-18T03:10:01.763600\n",
      "48      D       2      71  fetching_job  2022-02-18T03:14:11.831800\n",
      "394     D       2      71    processing  2022-02-18T03:17:31.831800\n",
      "1354    D       2      71   storing_job  2022-02-18T03:29:36.628600\n",
      "173     D       3      71  fetching_job  2022-02-18T04:07:58.215199\n",
      "96      D       3      71    processing  2022-02-18T04:11:18.215199\n",
      "392     D       3      71   storing_job  2022-02-18T04:29:11.105199\n",
      "761     D       4      71  fetching_job  2022-02-18T04:34:42.508999\n",
      "710     D       4      71    processing  2022-02-18T04:38:02.508999,      line  module  job_id                 state                        time\n",
      "558     D       1      72          fetching_job  2022-02-18T03:13:21.763600\n",
      "1270    D       1      72            processing  2022-02-18T03:16:41.763600\n",
      "682     D       1      72           storing_job  2022-02-18T03:27:04.039800\n",
      "112     D       2      72          fetching_job  2022-02-18T03:32:56.628600\n",
      "1360    D       2      72            processing  2022-02-18T03:36:16.628600\n",
      "1311    D       2      72           storing_job  2022-02-18T03:51:58.387600\n",
      "329     D       3      72          fetching_job  2022-02-18T04:32:31.105199\n",
      "919     D       3      72            processing  2022-02-18T04:35:51.105199\n",
      "1128    D       4      72  waiting_on_precedent  2022-02-18T04:56:59.772399\n",
      "106     D       3      72           storing_job  2022-02-18T06:16:06.441799\n",
      "452     D       4      72          fetching_job  2022-02-18T06:19:26.441799\n",
      "1181    D       4      72            processing  2022-02-18T06:22:46.441799]\n"
     ]
    }
   ],
   "source": [
    "import pandas as pd\n",
    "df = pd.read_csv('production_line_optimization_first_log.csv')\n",
    "df_sanitized = df.drop(df.columns[0], axis=1).drop_duplicates()\n",
    "df_sorted = df_sanitized.sort_values(by=[\"line\"])\n",
    "\n",
    "dfArrA = []\n",
    "dfArrB = []\n",
    "dfArrC = []\n",
    "dfArrD = []\n",
    "for x in range (1,22):\n",
    "    dfArrA.append(df_sanitized[df_sanitized[\"job_id\"] == x].sort_values(by=[\"time\"]))\n",
    "for x in range (22,40):\n",
    "   dfArrB.append(df_sanitized[df_sanitized[\"job_id\"] == x].sort_values(by=[\"time\"]))\n",
    "for x in range (40,66):\n",
    "   dfArrC.append(df_sanitized[df_sanitized[\"job_id\"] == x].sort_values(by=[\"time\"]))\n",
    "for x in range (66,74):\n",
    "   dfArrD.append(df_sanitized[df_sanitized[\"job_id\"] == x].sort_values(by=[\"time\"]))\n",
    "\n",
    "print(dfArrA[len(dfArrA)-1])\n",
    "print(dfArrB[len(dfArrB)-1])\n",
    "print(dfArrC[len(dfArrC)-1])\n",
    "print(dfArrD[len(dfArrD)-1])"
   ]
  },
  {
   "cell_type": "code",
   "execution_count": 31,
   "metadata": {},
   "outputs": [
    {
     "data": {
      "text/plain": [
       "-128"
      ]
     },
     "execution_count": 31,
     "metadata": {},
     "output_type": "execute_result"
    }
   ],
   "source": [
    "len(df_sanitized)-len(df)"
   ]
  }
 ],
 "metadata": {
  "interpreter": {
   "hash": "483ac6bdcd1d99ae453fa71a465b94608324a25c023ba0c2c975a28a1be5fd6f"
  },
  "kernelspec": {
   "display_name": "Python 3.8.5 64-bit ('base': conda)",
   "language": "python",
   "name": "python3"
  },
  "language_info": {
   "codemirror_mode": {
    "name": "ipython",
    "version": 3
   },
   "file_extension": ".py",
   "mimetype": "text/x-python",
   "name": "python",
   "nbconvert_exporter": "python",
   "pygments_lexer": "ipython3",
   "version": "3.8.5"
  },
  "orig_nbformat": 4
 },
 "nbformat": 4,
 "nbformat_minor": 2
}
