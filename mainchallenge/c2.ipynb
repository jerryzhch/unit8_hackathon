{
 "cells": [
  {
   "cell_type": "code",
   "execution_count": 46,
   "metadata": {},
   "outputs": [
    {
     "data": {
      "text/html": [
       "<div>\n",
       "<style scoped>\n",
       "    .dataframe tbody tr th:only-of-type {\n",
       "        vertical-align: middle;\n",
       "    }\n",
       "\n",
       "    .dataframe tbody tr th {\n",
       "        vertical-align: top;\n",
       "    }\n",
       "\n",
       "    .dataframe thead th {\n",
       "        text-align: right;\n",
       "    }\n",
       "</style>\n",
       "<table border=\"1\" class=\"dataframe\">\n",
       "  <thead>\n",
       "    <tr style=\"text-align: right;\">\n",
       "      <th></th>\n",
       "      <th>195</th>\n",
       "      <th>782</th>\n",
       "      <th>153</th>\n",
       "      <th>712</th>\n",
       "      <th>305</th>\n",
       "      <th>1083</th>\n",
       "      <th>1106</th>\n",
       "      <th>897</th>\n",
       "      <th>997</th>\n",
       "      <th>966</th>\n",
       "      <th>...</th>\n",
       "      <th>478</th>\n",
       "      <th>375</th>\n",
       "      <th>1150</th>\n",
       "      <th>268</th>\n",
       "      <th>208</th>\n",
       "      <th>134</th>\n",
       "      <th>411</th>\n",
       "      <th>766</th>\n",
       "      <th>778</th>\n",
       "      <th>616</th>\n",
       "    </tr>\n",
       "  </thead>\n",
       "  <tbody>\n",
       "    <tr>\n",
       "      <th>18</th>\n",
       "      <td>0.0</td>\n",
       "      <td>1.0</td>\n",
       "      <td>0.0</td>\n",
       "      <td>0.0</td>\n",
       "      <td>0.0</td>\n",
       "      <td>0.0</td>\n",
       "      <td>1.0</td>\n",
       "      <td>1.0</td>\n",
       "      <td>1.0</td>\n",
       "      <td>0.0</td>\n",
       "      <td>...</td>\n",
       "      <td>1.0</td>\n",
       "      <td>1.0</td>\n",
       "      <td>0.0</td>\n",
       "      <td>0.0</td>\n",
       "      <td>1.0</td>\n",
       "      <td>1.0</td>\n",
       "      <td>1.0</td>\n",
       "      <td>0.0</td>\n",
       "      <td>0.0</td>\n",
       "      <td>0.0</td>\n",
       "    </tr>\n",
       "  </tbody>\n",
       "</table>\n",
       "<p>1 rows × 917 columns</p>\n",
       "</div>"
      ],
      "text/plain": [
       "    195  782  153  712  305  1083  1106  897  997  966  ...  478  375  1150  \\\n",
       "18  0.0  1.0  0.0  0.0  0.0   0.0   1.0  1.0  1.0  0.0  ...  1.0  1.0   0.0   \n",
       "\n",
       "    268  208  134  411  766  778  616  \n",
       "18  0.0  1.0  1.0  1.0  0.0  0.0  0.0  \n",
       "\n",
       "[1 rows x 917 columns]"
      ]
     },
     "execution_count": 46,
     "metadata": {},
     "output_type": "execute_result"
    }
   ],
   "source": [
    "import pandas as pd\n",
    "\n",
    "df = pd.read_json(\"c2.json\")\n",
    "train = pd.json_normalize(df[\"train\"])\n",
    "test = pd.json_normalize(df[\"test\"].dropna())\n",
    "df_labels = train.iloc[-1:]\n",
    "df_labels"
   ]
  }
 ],
 "metadata": {
  "language_info": {
   "name": "python"
  },
  "orig_nbformat": 4
 },
 "nbformat": 4,
 "nbformat_minor": 2
}
